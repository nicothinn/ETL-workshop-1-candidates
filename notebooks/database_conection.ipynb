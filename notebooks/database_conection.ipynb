{
 "cells": [
  {
   "cell_type": "markdown",
   "metadata": {},
   "source": [
    "### Connecting to PostgreSQL\n",
    "To store the filtered data in a PostgreSQL database, the following steps were taken:\n",
    "1. **Database Connection**: A connection was established to a PostgreSQL database using the `psycopg2` library. The connection details included the database name, user, password, host, and port.\n",
    "2. **Table Creation**: A table named `candidates` was created in the database if it did not already exist. This table was designed to store all the relevant fields from the dataset.\n",
    "3. **Data Import**: The filtered data from `hired_candidates.csv` was imported into the `candidates` table using the `COPY` command, which efficiently loads data from a CSV file into a PostgreSQL table.\n",
    "\n",
    "### Why This Matters\n",
    "- **Data Integrity**: By filtering and saving only the hired candidates, we ensure that the data used for analysis is clean and relevant.\n",
    "- **Efficient Storage**: Storing the data in a PostgreSQL database allows for efficient querying and integration with visualization tools.\n",
    "- **Scalability**: This approach ensures that the data pipeline can handle larger datasets in the future.\n",
    "\n",
    "The final dataset (`hired_candidates.csv`) and the PostgreSQL database are now ready for visualization and further analysis."
   ]
  },
  {
   "cell_type": "code",
   "execution_count": 1,
   "metadata": {},
   "outputs": [
    {
     "name": "stdout",
     "output_type": "stream",
     "text": [
      "Migración completada.\n"
     ]
    }
   ],
   "source": [
    "import psycopg2\n",
    "\n",
    "conn = psycopg2.connect(\n",
    "    dbname=\"postgres\",\n",
    "    user=\"postgres\",\n",
    "    password=\"postgres\",\n",
    "    host=\"localhost\",\n",
    "    port=\"5432\"\n",
    ")\n",
    "cur = conn.cursor()\n",
    "\n",
    "# Crear la tabla 'candidates' si no existe.\n",
    "create_table_query = \"\"\"\n",
    "CREATE TABLE IF NOT EXISTS public.candidates (\n",
    "    \"First Name\" TEXT,\n",
    "    \"Last Name\" TEXT,\n",
    "    \"Email\" TEXT,\n",
    "    \"Application Date\" DATE,\n",
    "    \"Country\" TEXT,\n",
    "    \"YOE\" INTEGER,\n",
    "    \"Seniority\" TEXT,\n",
    "    \"Technology\" TEXT,\n",
    "    \"Code Challenge Score\" INTEGER,\n",
    "    \"Technical Interview Score\" INTEGER\n",
    ");\n",
    "\"\"\"\n",
    "cur.execute(create_table_query)\n",
    "conn.commit()\n",
    "\n",
    "# Ahora, intenta importar el CSV.\n",
    "csv_file_path = \"../data/hired_candidates.csv\"  # Asegúrate que el CSV esté en el formato correcto.\n",
    "copy_query = \"\"\"\n",
    "COPY public.candidates FROM STDIN WITH CSV HEADER DELIMITER ','\n",
    "\"\"\"\n",
    "with open(csv_file_path, 'r', encoding='utf-8') as f:\n",
    "    cur.copy_expert(copy_query, f)\n",
    "\n",
    "conn.commit()\n",
    "cur.close()\n",
    "conn.close()\n",
    "\n",
    "print(\"Migración completada.\")"
   ]
  }
 ],
 "metadata": {
  "kernelspec": {
   "display_name": "venv",
   "language": "python",
   "name": "python3"
  },
  "language_info": {
   "codemirror_mode": {
    "name": "ipython",
    "version": 3
   },
   "file_extension": ".py",
   "mimetype": "text/x-python",
   "name": "python",
   "nbconvert_exporter": "python",
   "pygments_lexer": "ipython3",
   "version": "3.11.1"
  }
 },
 "nbformat": 4,
 "nbformat_minor": 2
}
